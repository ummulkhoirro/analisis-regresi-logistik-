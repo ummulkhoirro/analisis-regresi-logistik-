{
  "nbformat": 4,
  "nbformat_minor": 0,
  "metadata": {
    "colab": {
      "provenance": []
    },
    "kernelspec": {
      "name": "python3",
      "display_name": "Python 3"
    },
    "language_info": {
      "name": "python"
    }
  },
  "cells": [
    {
      "cell_type": "markdown",
      "source": [
        "# **Menampilkan Data**"
      ],
      "metadata": {
        "id": "xXD01XBXz_kS"
      }
    },
    {
      "cell_type": "code",
      "source": [
        "import pandas as pd\n",
        "\n",
        "data = {\n",
        "    \"Mental Impair (Y)\": [0, 0, 0, 0, 1, 1, 1, 1, 1, 1],\n",
        "    \"Life Event (X1)\": [46, 39, 27, 50, 48, 45, 44, 35, 95, 35]\n",
        "}\n",
        "\n",
        "df = pd.DataFrame(data)\n",
        "print(df)\n"
      ],
      "metadata": {
        "colab": {
          "base_uri": "https://localhost:8080/"
        },
        "id": "gLK8fCs1xsbT",
        "outputId": "922cfc59-8b58-4bfb-d949-20882197ba81"
      },
      "execution_count": null,
      "outputs": [
        {
          "output_type": "stream",
          "name": "stdout",
          "text": [
            "   Mental Impair (Y)  Life Event (X1)\n",
            "0                  0               46\n",
            "1                  0               39\n",
            "2                  0               27\n",
            "3                  0               50\n",
            "4                  1               48\n",
            "5                  1               45\n",
            "6                  1               44\n",
            "7                  1               35\n",
            "8                  1               95\n",
            "9                  1               35\n"
          ]
        }
      ]
    },
    {
      "cell_type": "code",
      "source": [
        "import statsmodels.api as sm\n",
        "\n",
        "df_info = df.info()\n",
        "print(df_info)"
      ],
      "metadata": {
        "collapsed": true,
        "colab": {
          "base_uri": "https://localhost:8080/"
        },
        "id": "v84ymwu88t_t",
        "outputId": "420a2aa5-de08-4463-dc62-f4f1449ebfb9"
      },
      "execution_count": null,
      "outputs": [
        {
          "output_type": "stream",
          "name": "stdout",
          "text": [
            "<class 'pandas.core.frame.DataFrame'>\n",
            "RangeIndex: 10 entries, 0 to 9\n",
            "Data columns (total 6 columns):\n",
            " #   Column                    Non-Null Count  Dtype  \n",
            "---  ------                    --------------  -----  \n",
            " 0   Mental Impair (Y)         10 non-null     int64  \n",
            " 1   Life Event (X1)           10 non-null     int64  \n",
            " 2   Z                         10 non-null     float64\n",
            " 3   P(Y=1|X)                  10 non-null     float64\n",
            " 4   Log-Likelihood Component  10 non-null     float64\n",
            " 5   Exponential PDF           10 non-null     float64\n",
            "dtypes: float64(4), int64(2)\n",
            "memory usage: 608.0 bytes\n",
            "None\n"
          ]
        }
      ]
    },
    {
      "cell_type": "markdown",
      "source": [
        "# **Memisahkan Data ke X_train dan y_train**"
      ],
      "metadata": {
        "id": "g2gTrSJE83zh"
      }
    },
    {
      "cell_type": "code",
      "source": [
        "\n",
        "X = df[[\"Life Event (X1)\"]]\n",
        "y = df[\"Mental Impair (Y)\"]\n",
        "\n",
        "\n",
        "from sklearn.model_selection import train_test_split\n",
        "\n",
        "X_train, X_test, y_train, y_test = train_test_split(X, y, test_size=0.3, random_state=42)\n",
        "\n",
        "print(\"X_train:\\n\", X_train.head())\n",
        "print(\"\\ny_train:\\n\", y_train.head())\n",
        "\n",
        "X_train_exog = sm.add_constant(X_train)\n",
        "print(\"X_train_exog (dengan intercept):\\n\", X_train_exog.head())\n",
        "\n",
        "log_reg = sm.Logit(y_train, X_train_exog)\n",
        "result = log_reg.fit()\n",
        "\n",
        "log_reg_summary = result.summary()\n",
        "print(log_reg_summary)\n",
        "\n"
      ],
      "metadata": {
        "colab": {
          "base_uri": "https://localhost:8080/"
        },
        "id": "EFAcIeXO84gU",
        "outputId": "a0dcef41-f5bd-4af0-f6f8-313aa1cf4e87"
      },
      "execution_count": null,
      "outputs": [
        {
          "output_type": "stream",
          "name": "stdout",
          "text": [
            "X_train:\n",
            "    Life Event (X1)\n",
            "0               46\n",
            "7               35\n",
            "2               27\n",
            "9               35\n",
            "4               48\n",
            "\n",
            "y_train:\n",
            " 0    0\n",
            "7    1\n",
            "2    0\n",
            "9    1\n",
            "4    1\n",
            "Name: Mental Impair (Y), dtype: int64\n",
            "X_train_exog (dengan intercept):\n",
            "    const  Life Event (X1)\n",
            "0    1.0               46\n",
            "7    1.0               35\n",
            "2    1.0               27\n",
            "9    1.0               35\n",
            "4    1.0               48\n",
            "Optimization terminated successfully.\n",
            "         Current function value: 0.682411\n",
            "         Iterations 4\n",
            "                           Logit Regression Results                           \n",
            "==============================================================================\n",
            "Dep. Variable:      Mental Impair (Y)   No. Observations:                    7\n",
            "Model:                          Logit   Df Residuals:                        5\n",
            "Method:                           MLE   Df Model:                            1\n",
            "Date:                Sun, 08 Dec 2024   Pseudo R-squ.:               0.0007286\n",
            "Time:                        11:11:04   Log-Likelihood:                -4.7769\n",
            "converged:                       True   LL-Null:                       -4.7804\n",
            "Covariance Type:            nonrobust   LLR p-value:                    0.9335\n",
            "===================================================================================\n",
            "                      coef    std err          z      P>|z|      [0.025      0.975]\n",
            "-----------------------------------------------------------------------------------\n",
            "const               0.6192      4.053      0.153      0.879      -7.325       8.563\n",
            "Life Event (X1)    -0.0081      0.098     -0.083      0.934      -0.199       0.183\n",
            "===================================================================================\n"
          ]
        }
      ]
    },
    {
      "cell_type": "code",
      "source": [
        "\n",
        "print(\"Tipe data setiap kolom dalam DataFrame:\")\n",
        "print(df.dtypes)\n",
        "\n",
        "numerik = df.select_dtypes(include=['float64', 'int64'])\n",
        "kategorik = df.select_dtypes(include=['object', 'category'])\n",
        "\n",
        "print(\"\\nVariabel Numerik:\")\n",
        "print(numerik.head())\n",
        "\n",
        "print(\"\\nVariabel Kategorik:\")\n",
        "print(kategorik.head())"
      ],
      "metadata": {
        "colab": {
          "base_uri": "https://localhost:8080/"
        },
        "id": "kmMY0VfGADl7",
        "outputId": "f3845643-13e0-4b9c-f72a-a4ad10f849af"
      },
      "execution_count": null,
      "outputs": [
        {
          "output_type": "stream",
          "name": "stdout",
          "text": [
            "Tipe data setiap kolom dalam DataFrame:\n",
            "Mental Impair (Y)             int64\n",
            "Life Event (X1)               int64\n",
            "Z                           float64\n",
            "P(Y=1|X)                    float64\n",
            "Log-Likelihood Component    float64\n",
            "Exponential PDF             float64\n",
            "dtype: object\n",
            "\n",
            "Variabel Numerik:\n",
            "   Mental Impair (Y)  Life Event (X1)     Z  P(Y=1|X)  \\\n",
            "0                  0               46  0.56  0.636453   \n",
            "1                  0               39  0.49  0.620106   \n",
            "2                  0               27  0.37  0.591459   \n",
            "3                  0               50  0.60  0.645656   \n",
            "4                  1               48  0.58  0.641067   \n",
            "\n",
            "   Log-Likelihood Component  Exponential PDF  \n",
            "0                 -1.011845         0.363547  \n",
            "1                 -0.967864         0.379894  \n",
            "2                 -0.895163         0.408541  \n",
            "3                 -1.037488         0.354344  \n",
            "4                 -0.444621         0.641067  \n",
            "\n",
            "Variabel Kategorik:\n",
            "Empty DataFrame\n",
            "Columns: []\n",
            "Index: [0, 1, 2, 3, 4]\n"
          ]
        }
      ]
    },
    {
      "cell_type": "markdown",
      "source": [
        "\n",
        "\n",
        "\n",
        "\n",
        "# **Fungsi Density Probabilitas**"
      ],
      "metadata": {
        "id": "6Spd3pTJ0Z-j"
      }
    },
    {
      "cell_type": "code",
      "source": [
        "import numpy as np\n",
        "\n",
        "def logistic(z):\n",
        "    return 1 / (1 + np.exp(-z))\n",
        "\n",
        "beta_0 = 0.1\n",
        "beta_1 = 0.01\n",
        "\n",
        "df[\"Z\"] = beta_0 + beta_1 * df[\"Life Event (X1)\"]\n",
        "df[\"P(Y=1|X)\"] = logistic(df[\"Z\"])\n",
        "\n",
        "\n",
        "print(\"\\nPerhitungan PDF Logistic Regression:\")\n",
        "for i, row in df.iterrows():\n",
        "    print(f\"Data {i + 1}:\")\n",
        "    print(f\"  Z = β₀ + β₁ * X₁ = {beta_0} + {beta_1} * {row['Life Event (X1)']} = {row['Z']:.4f}\")\n",
        "    print(f\"  P(Y=1|X) = 1 / (1 + e^(-Z)) = {row['P(Y=1|X)']:.4f}\\n\")\n"
      ],
      "metadata": {
        "colab": {
          "base_uri": "https://localhost:8080/"
        },
        "collapsed": true,
        "id": "_Y-hI7TWxwiX",
        "outputId": "e97a0714-dd51-4b34-dcfa-d6f2770d0fc8"
      },
      "execution_count": null,
      "outputs": [
        {
          "output_type": "stream",
          "name": "stdout",
          "text": [
            "\n",
            "Perhitungan PDF Logistic Regression:\n",
            "Data 1:\n",
            "  Z = β₀ + β₁ * X₁ = 0.1 + 0.01 * 46.0 = 0.5600\n",
            "  P(Y=1|X) = 1 / (1 + e^(-Z)) = 0.6365\n",
            "\n",
            "Data 2:\n",
            "  Z = β₀ + β₁ * X₁ = 0.1 + 0.01 * 39.0 = 0.4900\n",
            "  P(Y=1|X) = 1 / (1 + e^(-Z)) = 0.6201\n",
            "\n",
            "Data 3:\n",
            "  Z = β₀ + β₁ * X₁ = 0.1 + 0.01 * 27.0 = 0.3700\n",
            "  P(Y=1|X) = 1 / (1 + e^(-Z)) = 0.5915\n",
            "\n",
            "Data 4:\n",
            "  Z = β₀ + β₁ * X₁ = 0.1 + 0.01 * 50.0 = 0.6000\n",
            "  P(Y=1|X) = 1 / (1 + e^(-Z)) = 0.6457\n",
            "\n",
            "Data 5:\n",
            "  Z = β₀ + β₁ * X₁ = 0.1 + 0.01 * 48.0 = 0.5800\n",
            "  P(Y=1|X) = 1 / (1 + e^(-Z)) = 0.6411\n",
            "\n",
            "Data 6:\n",
            "  Z = β₀ + β₁ * X₁ = 0.1 + 0.01 * 45.0 = 0.5500\n",
            "  P(Y=1|X) = 1 / (1 + e^(-Z)) = 0.6341\n",
            "\n",
            "Data 7:\n",
            "  Z = β₀ + β₁ * X₁ = 0.1 + 0.01 * 44.0 = 0.5400\n",
            "  P(Y=1|X) = 1 / (1 + e^(-Z)) = 0.6318\n",
            "\n",
            "Data 8:\n",
            "  Z = β₀ + β₁ * X₁ = 0.1 + 0.01 * 35.0 = 0.4500\n",
            "  P(Y=1|X) = 1 / (1 + e^(-Z)) = 0.6106\n",
            "\n",
            "Data 9:\n",
            "  Z = β₀ + β₁ * X₁ = 0.1 + 0.01 * 95.0 = 1.0500\n",
            "  P(Y=1|X) = 1 / (1 + e^(-Z)) = 0.7408\n",
            "\n",
            "Data 10:\n",
            "  Z = β₀ + β₁ * X₁ = 0.1 + 0.01 * 35.0 = 0.4500\n",
            "  P(Y=1|X) = 1 / (1 + e^(-Z)) = 0.6106\n",
            "\n"
          ]
        }
      ]
    },
    {
      "cell_type": "markdown",
      "source": [
        "# **Log Likelihood**"
      ],
      "metadata": {
        "id": "EBjP9D4Z2sd1"
      }
    },
    {
      "cell_type": "code",
      "source": [
        "\n",
        "df[\"Log-Likelihood Component\"] = df[\"Mental Impair (Y)\"] * df[\"Z\"] - np.log(1 + np.exp(df[\"Z\"]))\n",
        "\n",
        "log_likelihood = df[\"Log-Likelihood Component\"].sum()\n",
        "\n",
        "print(\"\\nLangkah Perhitungan Log-Likelihood:\")\n",
        "for i, row in df.iterrows():\n",
        "    print(f\"Data {i + 1}:\")\n",
        "    print(f\"  Yi * Zi = {row['Mental Impair (Y)']} * {row['Z']:.4f} = {(row['Mental Impair (Y)'] * row['Z']):.4f}\")\n",
        "    print(f\"  log(1 + exp(Z_i)) = log(1 + exp({row['Z']:.4f})) = {np.log(1 + np.exp(row['Z'])):.4f}\")\n",
        "    print(f\"  Komponen = {row['Log-Likelihood Component']:.4f}\\n\")\n",
        "\n",
        "print(f\"Log-Likelihood Total = {log_likelihood:.4f}\")\n"
      ],
      "metadata": {
        "colab": {
          "base_uri": "https://localhost:8080/"
        },
        "collapsed": true,
        "id": "rrI9q4vax-sH",
        "outputId": "c316a665-cd83-4f05-f032-87462715144b"
      },
      "execution_count": null,
      "outputs": [
        {
          "output_type": "stream",
          "name": "stdout",
          "text": [
            "\n",
            "Langkah Perhitungan Log-Likelihood:\n",
            "Data 1:\n",
            "  Yi * Zi = 0.0 * 0.5600 = 0.0000\n",
            "  log(1 + exp(Z_i)) = log(1 + exp(0.5600)) = 1.0118\n",
            "  Komponen = -1.0118\n",
            "\n",
            "Data 2:\n",
            "  Yi * Zi = 0.0 * 0.4900 = 0.0000\n",
            "  log(1 + exp(Z_i)) = log(1 + exp(0.4900)) = 0.9679\n",
            "  Komponen = -0.9679\n",
            "\n",
            "Data 3:\n",
            "  Yi * Zi = 0.0 * 0.3700 = 0.0000\n",
            "  log(1 + exp(Z_i)) = log(1 + exp(0.3700)) = 0.8952\n",
            "  Komponen = -0.8952\n",
            "\n",
            "Data 4:\n",
            "  Yi * Zi = 0.0 * 0.6000 = 0.0000\n",
            "  log(1 + exp(Z_i)) = log(1 + exp(0.6000)) = 1.0375\n",
            "  Komponen = -1.0375\n",
            "\n",
            "Data 5:\n",
            "  Yi * Zi = 1.0 * 0.5800 = 0.5800\n",
            "  log(1 + exp(Z_i)) = log(1 + exp(0.5800)) = 1.0246\n",
            "  Komponen = -0.4446\n",
            "\n",
            "Data 6:\n",
            "  Yi * Zi = 1.0 * 0.5500 = 0.5500\n",
            "  log(1 + exp(Z_i)) = log(1 + exp(0.5500)) = 1.0055\n",
            "  Komponen = -0.4555\n",
            "\n",
            "Data 7:\n",
            "  Yi * Zi = 1.0 * 0.5400 = 0.5400\n",
            "  log(1 + exp(Z_i)) = log(1 + exp(0.5400)) = 0.9992\n",
            "  Komponen = -0.4592\n",
            "\n",
            "Data 8:\n",
            "  Yi * Zi = 1.0 * 0.4500 = 0.4500\n",
            "  log(1 + exp(Z_i)) = log(1 + exp(0.4500)) = 0.9432\n",
            "  Komponen = -0.4932\n",
            "\n",
            "Data 9:\n",
            "  Yi * Zi = 1.0 * 1.0500 = 1.0500\n",
            "  log(1 + exp(Z_i)) = log(1 + exp(1.0500)) = 1.3501\n",
            "  Komponen = -0.3001\n",
            "\n",
            "Data 10:\n",
            "  Yi * Zi = 1.0 * 0.4500 = 0.4500\n",
            "  log(1 + exp(Z_i)) = log(1 + exp(0.4500)) = 0.9432\n",
            "  Komponen = -0.4932\n",
            "\n",
            "Log-Likelihood Total = -6.5582\n"
          ]
        }
      ]
    },
    {
      "cell_type": "markdown",
      "source": [
        "# **Eksponensial kedua ruas**"
      ],
      "metadata": {
        "id": "Ikg5RWn725JK"
      }
    },
    {
      "cell_type": "code",
      "source": [
        "\n",
        "df[\"Exponential PDF\"] = np.exp(df[\"Log-Likelihood Component\"])\n",
        "\n",
        "print(\"\\nLangkah Perhitungan PDF Eksponensial:\")\n",
        "for i, row in df.iterrows():\n",
        "    print(f\"Data {i + 1}:\")\n",
        "    print(f\"  Eksponensial = exp({row['Log-Likelihood Component']:.4f}) = {row['Exponential PDF']:.4f}\\n\")"
      ],
      "metadata": {
        "colab": {
          "base_uri": "https://localhost:8080/"
        },
        "id": "aHOhJ68NyDrh",
        "outputId": "ef57bcd5-7312-4dc0-a687-11d26de5a790"
      },
      "execution_count": null,
      "outputs": [
        {
          "output_type": "stream",
          "name": "stdout",
          "text": [
            "\n",
            "Langkah Perhitungan PDF Eksponensial:\n",
            "Data 1:\n",
            "  Eksponensial = exp(-1.0118) = 0.3635\n",
            "\n",
            "Data 2:\n",
            "  Eksponensial = exp(-0.9679) = 0.3799\n",
            "\n",
            "Data 3:\n",
            "  Eksponensial = exp(-0.8952) = 0.4085\n",
            "\n",
            "Data 4:\n",
            "  Eksponensial = exp(-1.0375) = 0.3543\n",
            "\n",
            "Data 5:\n",
            "  Eksponensial = exp(-0.4446) = 0.6411\n",
            "\n",
            "Data 6:\n",
            "  Eksponensial = exp(-0.4555) = 0.6341\n",
            "\n",
            "Data 7:\n",
            "  Eksponensial = exp(-0.4592) = 0.6318\n",
            "\n",
            "Data 8:\n",
            "  Eksponensial = exp(-0.4932) = 0.6106\n",
            "\n",
            "Data 9:\n",
            "  Eksponensial = exp(-0.3001) = 0.7408\n",
            "\n",
            "Data 10:\n",
            "  Eksponensial = exp(-0.4932) = 0.6106\n",
            "\n"
          ]
        }
      ]
    },
    {
      "cell_type": "markdown",
      "source": [
        "# **Maximum likelihood**"
      ],
      "metadata": {
        "id": "DqB8ahms4cIj"
      }
    },
    {
      "cell_type": "code",
      "source": [
        "from sympy import symbols, exp, log\n",
        "import numpy as np\n",
        "\n",
        "# === Definisikan variabel === #\n",
        "beta_0, beta_1, X, Y = symbols(\"beta_0 beta_1 X Y\")\n",
        "\n",
        "sigmoid = 1 / (exp(-beta_1 * X - beta_0) + 1)\n",
        "\n",
        "term1 = Y * log(sigmoid)\n",
        "term2 = (1 - Y) * log(1 - sigmoid)\n",
        "log_likelihood = term1 + term2\n",
        "\n",
        "print(\"Rumus Log-Likelihood:\")\n",
        "print(f\"L(beta) = {log_likelihood}\\n\")\n",
        "\n",
        "# === Langkah perhitungan dengan data dummy === #\n",
        "X_data = np.array([46, 39, 27, 50, 48, 45, 44, 35, 95, 35])\n",
        "Y_data = np.array([0, 0, 0, 0, 1, 1, 1, 1, 1, 1])\n",
        "\n",
        "# === Hitung log-likelihood untuk data dummy === #\n",
        "log_likelihood_value = 0\n",
        "for i in range(len(X_data)):\n",
        "    sigmoid_value = 1 / (exp(-beta_1 * X_data[i] - beta_0) + 1)\n",
        "    term1_value = Y_data[i] * log(sigmoid_value)\n",
        "    term2_value = (1 - Y_data[i]) * log(1 - sigmoid_value)\n",
        "    log_likelihood_value += term1_value + term2_value\n",
        "\n",
        "print(\"Log-Likelihood untuk Data Dummy:\")\n",
        "print(f\"L(beta) = {log_likelihood_value}\\n\")\n",
        "\n",
        "\n",
        "# === Turunan Parsial terhadap β₀ dan β₁ === #\n",
        "dL_dBeta0 = sum([Y_data[i] - sigmoid_value for i in range(len(X_data))])\n",
        "dL_dBeta1 = sum([(Y_data[i] - sigmoid_value) * X_data[i] for i in range(len(X_data))])\n",
        "\n",
        "print(\"Turunan Parsial Log-Likelihood:\")\n",
        "print(f\"∂L/∂β₀ = {dL_dBeta0}\")\n",
        "print(f\"∂L/∂β₁ = {dL_dBeta1}\\n\")\n",
        "\n",
        "# === Hasil Estimasi Parameter dengan Metode Numerik (Newton-Raphson) === #\n",
        "beta_0_init = 0.1\n",
        "beta_1_init = 0.01\n",
        "beta = np.array([beta_0_init, beta_1_init])\n",
        "\n",
        "tol = 1e-6\n",
        "max_iter = 100\n",
        "\n",
        "for _ in range(max_iter):\n",
        "    z = beta[0] + beta[1] * X_data\n",
        "    sigmoid_value = 1 / (1 + np.exp(-z))\n",
        "\n",
        "    grad = np.array([\n",
        "        np.sum(Y_data - sigmoid_value),\n",
        "        np.sum((Y_data - sigmoid_value) * X_data)\n",
        "    ])\n",
        "\n",
        "    W = sigmoid_value * (1 - sigmoid_value)\n",
        "    H = np.array([\n",
        "        [np.sum(W), np.sum(W * X_data)],\n",
        "        [np.sum(W * X_data), np.sum(W * (X_data ** 2))]\n",
        "    ])\n",
        "\n",
        "    regularization_term = 1e-4\n",
        "    H += np.eye(2) * regularization_term\n",
        "\n",
        "    beta_new = beta - np.linalg.inv(H) @ grad\n",
        "\n",
        "\n",
        "    if np.all(np.abs(beta_new - beta) < tol):\n",
        "        break\n",
        "    beta = beta_new\n",
        "\n",
        "\n",
        "print(\"Hasil Estimasi Parameter dengan Metode Newton-Raphson (Setelah Regularisasi):\")\n",
        "print(f\"β₀ = {beta[0]:.4f}\")\n",
        "print(f\"β₁ = {beta[1]:.4f}\\n\")"
      ],
      "metadata": {
        "colab": {
          "base_uri": "https://localhost:8080/"
        },
        "id": "_ndRSjPLyFxJ",
        "outputId": "896b0df1-96db-4b58-f151-b1ec311cc8d2"
      },
      "execution_count": null,
      "outputs": [
        {
          "output_type": "stream",
          "name": "stdout",
          "text": [
            "Rumus Log-Likelihood:\n",
            "L(beta) = Y*log(1/(exp(-X*beta_1 - beta_0) + 1)) + (1 - Y)*log(1 - 1/(exp(-X*beta_1 - beta_0) + 1))\n",
            "\n",
            "Log-Likelihood untuk Data Dummy:\n",
            "L(beta) = log(1 - 1/(exp(-beta_0 - 50*beta_1) + 1)) + log(1 - 1/(exp(-beta_0 - 46*beta_1) + 1)) + log(1 - 1/(exp(-beta_0 - 39*beta_1) + 1)) + log(1 - 1/(exp(-beta_0 - 27*beta_1) + 1)) + log(1/(exp(-beta_0 - 95*beta_1) + 1)) + log(1/(exp(-beta_0 - 48*beta_1) + 1)) + log(1/(exp(-beta_0 - 45*beta_1) + 1)) + log(1/(exp(-beta_0 - 44*beta_1) + 1)) + 2*log(1/(exp(-beta_0 - 35*beta_1) + 1))\n",
            "\n",
            "Turunan Parsial Log-Likelihood:\n",
            "∂L/∂β₀ = 6 - 10/(exp(-beta_0 - 35*beta_1) + 1)\n",
            "∂L/∂β₁ = 302 - 464/(exp(-beta_0 - 35*beta_1) + 1)\n",
            "\n",
            "Hasil Estimasi Parameter dengan Metode Newton-Raphson (Setelah Regularisasi):\n",
            "β₀ = -5613058.4517\n",
            "β₁ = -284190366.8473\n",
            "\n"
          ]
        },
        {
          "output_type": "stream",
          "name": "stderr",
          "text": [
            "<ipython-input-40-6d3444e02d80>:54: RuntimeWarning: overflow encountered in exp\n",
            "  sigmoid_value = 1 / (1 + np.exp(-z))\n"
          ]
        }
      ]
    },
    {
      "cell_type": "markdown",
      "source": [
        "# **Plot  Logistic Regression**"
      ],
      "metadata": {
        "id": "9Mk5uQRr4lBe"
      }
    },
    {
      "cell_type": "code",
      "source": [
        "import matplotlib.pyplot as plt\n",
        "\n",
        "x_vals = np.linspace(df[\"Life Event (X1)\"].min(), df[\"Life Event (X1)\"].max(), 100)\n",
        "y_vals = logistic(beta_optimal[0] + beta_optimal[1] * x_vals)\n",
        "\n",
        "plt.scatter(df[\"Life Event (X1)\"], df[\"Mental Impair (Y)\"], label=\"Data\", color=\"blue\")\n",
        "plt.plot(x_vals, y_vals, label=\"Logistic Regression\", color=\"red\")\n",
        "plt.xlabel(\"Life Event (X1)\")\n",
        "plt.ylabel(\"Probability (Mental Impair)\")\n",
        "plt.legend()\n",
        "plt.title(\"Logistic Regression Curve\")\n",
        "plt.show()\n"
      ],
      "metadata": {
        "colab": {
          "base_uri": "https://localhost:8080/",
          "height": 472
        },
        "id": "vyVvgSlR4lko",
        "outputId": "529c9b61-77ca-4ce6-80ed-4f1d898f6154"
      },
      "execution_count": null,
      "outputs": [
        {
          "output_type": "display_data",
          "data": {
            "text/plain": [
              "<Figure size 640x480 with 1 Axes>"
            ],
            "image/png": "[encoded data removed]"
          },
          "metadata": {}
        }
      ]
    }
  ]
}